{
 "cells": [
  {
   "cell_type": "code",
   "execution_count": 9,
   "id": "0219f8bd-f094-4a1c-b237-9a450f59e948",
   "metadata": {},
   "outputs": [],
   "source": [
    "import pandas as pd\n",
    "import numpy as np\n",
    "import matplotlib.pyplot as plt\n",
    "import statsmodels.api as sm"
   ]
  },
  {
   "cell_type": "code",
   "execution_count": 5,
   "id": "1379878a-5722-4ca9-92a2-8fd157e3a415",
   "metadata": {},
   "outputs": [
    {
     "data": {
      "text/html": [
       "<div>\n",
       "<style scoped>\n",
       "    .dataframe tbody tr th:only-of-type {\n",
       "        vertical-align: middle;\n",
       "    }\n",
       "\n",
       "    .dataframe tbody tr th {\n",
       "        vertical-align: top;\n",
       "    }\n",
       "\n",
       "    .dataframe thead th {\n",
       "        text-align: right;\n",
       "    }\n",
       "</style>\n",
       "<table border=\"1\" class=\"dataframe\">\n",
       "  <thead>\n",
       "    <tr style=\"text-align: right;\">\n",
       "      <th></th>\n",
       "      <th>Observation</th>\n",
       "      <th>Advertising</th>\n",
       "      <th>Sales</th>\n",
       "    </tr>\n",
       "  </thead>\n",
       "  <tbody>\n",
       "    <tr>\n",
       "      <th>0</th>\n",
       "      <td>1</td>\n",
       "      <td>12</td>\n",
       "      <td>24</td>\n",
       "    </tr>\n",
       "    <tr>\n",
       "      <th>1</th>\n",
       "      <td>2</td>\n",
       "      <td>12</td>\n",
       "      <td>27</td>\n",
       "    </tr>\n",
       "    <tr>\n",
       "      <th>2</th>\n",
       "      <td>3</td>\n",
       "      <td>9</td>\n",
       "      <td>25</td>\n",
       "    </tr>\n",
       "    <tr>\n",
       "      <th>3</th>\n",
       "      <td>4</td>\n",
       "      <td>11</td>\n",
       "      <td>27</td>\n",
       "    </tr>\n",
       "    <tr>\n",
       "      <th>4</th>\n",
       "      <td>5</td>\n",
       "      <td>6</td>\n",
       "      <td>23</td>\n",
       "    </tr>\n",
       "  </tbody>\n",
       "</table>\n",
       "</div>"
      ],
      "text/plain": [
       "   Observation  Advertising  Sales\n",
       "0            1           12     24\n",
       "1            2           12     27\n",
       "2            3            9     25\n",
       "3            4           11     27\n",
       "4            5            6     23"
      ]
     },
     "execution_count": 5,
     "metadata": {},
     "output_type": "execute_result"
    }
   ],
   "source": [
    "df = pd.read_excel(\"_689829b5c78b9b71bd384ed8fb8714c1_TestExer-1-sales-round1.xlsx\")\n",
    "df.head()"
   ]
  },
  {
   "cell_type": "markdown",
   "id": "76f547f5-4c3a-4e67-bbb5-008511161d05",
   "metadata": {},
   "source": [
    "* (a) Make the scatter diagram with sales on the vertical axis and advertising on the horizontal axis. What do you\r\n",
    "expect to find if you would fit a regression line to these data?"
   ]
  },
  {
   "cell_type": "code",
   "execution_count": 8,
   "id": "36655977-fb62-494b-8d63-7067796310af",
   "metadata": {},
   "outputs": [
    {
     "data": {
      "image/png": "[encoded data removed]",
      "text/plain": [
       "<Figure size 800x600 with 1 Axes>"
      ]
     },
     "metadata": {},
     "output_type": "display_data"
    }
   ],
   "source": [
    "plt.figure(figsize=(8, 6))\n",
    "plt.scatter(df[\"Advertising\"], df[\"Sales\"], color=\"blue\", alpha=0.7)\n",
    "plt.xlabel(\"Advertising\")\n",
    "plt.ylabel(\"Sales\")\n",
    "plt.title(\"Scatter Plot of Sales vs. Advertising\")\n",
    "plt.grid(True)\n",
    "\n",
    "plt.show()"
   ]
  },
  {
   "cell_type": "markdown",
   "id": "6c5ca0e7-51d2-4e8a-b815-21711cc698ee",
   "metadata": {},
   "source": [
    "* (b) Estimate the coefficients a and b in the simple regression model with sales as dependent variable and advertising\r\n",
    "as explanatory factor. Also compute the standard error and t-value of b. Is b significantly different from 0?"
   ]
  },
  {
   "cell_type": "code",
   "execution_count": 10,
   "id": "845b51c4-5f28-49b3-9859-31675a760465",
   "metadata": {},
   "outputs": [
    {
     "name": "stdout",
     "output_type": "stream",
     "text": [
      "                            OLS Regression Results                            \n",
      "==============================================================================\n",
      "Dep. Variable:                  Sales   R-squared:                       0.027\n",
      "Model:                            OLS   Adj. R-squared:                 -0.027\n",
      "Method:                 Least Squares   F-statistic:                    0.5002\n",
      "Date:                Mon, 24 Feb 2025   Prob (F-statistic):              0.488\n",
      "Time:                        23:20:54   Log-Likelihood:                -62.608\n",
      "No. Observations:                  20   AIC:                             129.2\n",
      "Df Residuals:                      18   BIC:                             131.2\n",
      "Df Model:                           1                                         \n",
      "Covariance Type:            nonrobust                                         \n",
      "===============================================================================\n",
      "                  coef    std err          t      P>|t|      [0.025      0.975]\n",
      "-------------------------------------------------------------------------------\n",
      "const          29.6269      4.882      6.069      0.000      19.371      39.883\n",
      "Advertising    -0.3246      0.459     -0.707      0.488      -1.289       0.640\n",
      "==============================================================================\n",
      "Omnibus:                       40.109   Durbin-Watson:                   1.994\n",
      "Prob(Omnibus):                  0.000   Jarque-Bera (JB):              121.776\n",
      "Skew:                           3.178   Prob(JB):                     3.60e-27\n",
      "Kurtosis:                      13.283   Cond. No.                         40.1\n",
      "==============================================================================\n",
      "\n",
      "Notes:\n",
      "[1] Standard Errors assume that the covariance matrix of the errors is correctly specified.\n"
     ]
    }
   ],
   "source": [
    "X = df[\"Advertising\"]\n",
    "X = sm.add_constant(X)  \n",
    "Y = df[\"Sales\"]\n",
    "\n",
    "model = sm.OLS(Y, X).fit()\n",
    "\n",
    "table = model.summary()\n",
    "print(table)"
   ]
  },
  {
   "cell_type": "markdown",
   "id": "5ce80d28-1ec0-405f-b4e5-86577cf1c649",
   "metadata": {},
   "source": [
    "* (c) Compute the residuals and draw a histogram of these residuals. What conclusion do you draw from this\r\n",
    "histogram?"
   ]
  },
  {
   "cell_type": "code",
   "execution_count": 11,
   "id": "087100d5-80c2-4da1-9f0f-ef24adba98f7",
   "metadata": {},
   "outputs": [
    {
     "data": {
      "image/png": "[encoded data removed]",
      "text/plain": [
       "<Figure size 800x600 with 1 Axes>"
      ]
     },
     "metadata": {},
     "output_type": "display_data"
    }
   ],
   "source": [
    "residuals = model.resid\n",
    "\n",
    "plt.figure(figsize=(8, 6))\n",
    "plt.hist(residuals, bins=10, edgecolor='black', alpha=0.7)\n",
    "plt.xlabel(\"Residuals\")\n",
    "plt.ylabel(\"Frequency\")\n",
    "plt.title(\"Histogram of Residuals\")\n",
    "plt.grid(True)\n",
    "plt.show()"
   ]
  },
  {
   "cell_type": "markdown",
   "id": "1759c4a3-7e71-481d-90c5-9d27ace8d0aa",
   "metadata": {},
   "source": [
    "* The relationship between “Advertising” and “Sales” seems weak in this model.\n",
    "The residuals probably do not follow a normal distribution, which may indicate that the simple linear model is not suitable.\n",
    "It may be interesting to test data transformations, include more variables or consider non-linear models."
   ]
  },
  {
   "cell_type": "markdown",
   "id": "636f87bb-e280-4cb2-addc-3d148d31a296",
   "metadata": {},
   "source": [
    "* (d) Apparently, the regression result of part (b) is not satisfactory. Once you realize that the large residual\r\n",
    "corresponds to the week with opening hours during the evening, how would you proceed to get a more\r\n",
    "satisfactory regression model?"
   ]
  },
  {
   "cell_type": "code",
   "execution_count": 14,
   "id": "aaf26aa0-b479-460e-add1-c90228842fc5",
   "metadata": {},
   "outputs": [
    {
     "name": "stdout",
     "output_type": "stream",
     "text": [
      "                            OLS Regression Results                            \n",
      "==============================================================================\n",
      "Dep. Variable:                  Sales   R-squared:                       0.970\n",
      "Model:                            OLS   Adj. R-squared:                  0.967\n",
      "Method:                 Least Squares   F-statistic:                     275.3\n",
      "Date:                Mon, 24 Feb 2025   Prob (F-statistic):           1.12e-13\n",
      "Time:                        23:32:02   Log-Likelihood:                -27.800\n",
      "No. Observations:                  20   AIC:                             61.60\n",
      "Df Residuals:                      17   BIC:                             64.59\n",
      "Df Model:                           2                                         \n",
      "Covariance Type:            nonrobust                                         \n",
      "=================================================================================\n",
      "                    coef    std err          t      P>|t|      [0.025      0.975]\n",
      "---------------------------------------------------------------------------------\n",
      "const            21.1250      0.955     22.124      0.000      19.110      23.140\n",
      "Advertising       0.3750      0.088      4.252      0.001       0.189       0.561\n",
      "Evening_Hours    26.6250      1.151     23.135      0.000      24.197      29.053\n",
      "==============================================================================\n",
      "Omnibus:                        0.836   Durbin-Watson:                   1.749\n",
      "Prob(Omnibus):                  0.658   Jarque-Bera (JB):                0.229\n",
      "Skew:                          -0.258   Prob(JB):                        0.892\n",
      "Kurtosis:                       3.087   Cond. No.                         57.2\n",
      "==============================================================================\n",
      "\n",
      "Notes:\n",
      "[1] Standard Errors assume that the covariance matrix of the errors is correctly specified.\n"
     ]
    },
    {
     "data": {
      "image/png": "[encoded data removed]",
      "text/plain": [
       "<Figure size 800x500 with 1 Axes>"
      ]
     },
     "metadata": {},
     "output_type": "display_data"
    }
   ],
   "source": [
    "# Definir variáveis independente e dependente\n",
    "X = df[\"Advertising\"]\n",
    "y = df[\"Sales\"]\n",
    "\n",
    "# Adicionar constante e ajustar o modelo inicial\n",
    "X = sm.add_constant(X)\n",
    "model = sm.OLS(y, X).fit()\n",
    "\n",
    "# Calcular os resíduos\n",
    "df[\"Residuals\"] = model.resid\n",
    "\n",
    "# Definir um limiar para resíduos grandes (exemplo: 2x o desvio padrão)\n",
    "threshold = 2 * df[\"Residuals\"].std()\n",
    "\n",
    "# Criar variável dummy para semanas com horários noturnos\n",
    "df[\"Evening_Hours\"] = (df[\"Residuals\"].abs() > threshold).astype(int)\n",
    "\n",
    "# Ajustar novo modelo incluindo a variável dummy\n",
    "X_new = df[[\"Advertising\", \"Evening_Hours\"]]\n",
    "X_new = sm.add_constant(X_new)\n",
    "model_new = sm.OLS(y, X_new).fit()\n",
    "\n",
    "# Calcular novos resíduos\n",
    "df[\"Residuals_New\"] = model_new.resid\n",
    "\n",
    "# Exibir resumo do novo modelo\n",
    "print(model_new.summary())\n",
    "\n",
    "# Plotar histograma dos novos resíduos\n",
    "plt.figure(figsize=(8, 5))\n",
    "plt.hist(df[\"Residuals_New\"], bins=10, edgecolor=\"black\", alpha=0.7)\n",
    "plt.xlabel(\"Resíduos\")\n",
    "plt.ylabel(\"Frequência\")\n",
    "plt.title(\"Histograma dos Novos Resíduos\")\n",
    "plt.grid(axis=\"y\", linestyle=\"--\", alpha=0.7)\n",
    "plt.show()\n"
   ]
  },
  {
   "cell_type": "markdown",
   "id": "99b94c4b-ee14-45f6-978a-e353b8d24010",
   "metadata": {},
   "source": [
    "* The introduction of the indicator variable for weeks with night-time opening greatly improved the model.\n",
    "This type of approach is useful when there are external factors that explain variations in the data."
   ]
  },
  {
   "cell_type": "markdown",
   "id": "eb76b340-2282-44f8-b92c-3cae0bbf8d17",
   "metadata": {},
   "source": [
    "* (e) Delete this special week from the sample and use the remaining 19 weeks to estimate the coefficients a and\r\n",
    "b in the simple regression model with sales as dependent variable and advertising as explanatory factor. Also\r\n",
    "compute the standard error and t-value of b. Is b significantly different from 0?"
   ]
  },
  {
   "cell_type": "code",
   "execution_count": 17,
   "id": "06090585-9317-430b-8558-eb15e25ce18b",
   "metadata": {},
   "outputs": [
    {
     "name": "stdout",
     "output_type": "stream",
     "text": [
      "Coeficiente b (Advertising): 0.375\n",
      "Erro padrão de b: 0.088\n",
      "Valor t de b: 4.252\n",
      "p-valor de b: 0.000538\n",
      "                            OLS Regression Results                            \n",
      "==============================================================================\n",
      "Dep. Variable:                  Sales   R-squared:                       0.515\n",
      "Model:                            OLS   Adj. R-squared:                  0.487\n",
      "Method:                 Least Squares   F-statistic:                     18.08\n",
      "Date:                Mon, 24 Feb 2025   Prob (F-statistic):           0.000538\n",
      "Time:                        23:38:28   Log-Likelihood:                -26.897\n",
      "No. Observations:                  19   AIC:                             57.79\n",
      "Df Residuals:                      17   BIC:                             59.68\n",
      "Df Model:                           1                                         \n",
      "Covariance Type:            nonrobust                                         \n",
      "===============================================================================\n",
      "                  coef    std err          t      P>|t|      [0.025      0.975]\n",
      "-------------------------------------------------------------------------------\n",
      "const          21.1250      0.955     22.124      0.000      19.110      23.140\n",
      "Advertising     0.3750      0.088      4.252      0.001       0.189       0.561\n",
      "==============================================================================\n",
      "Omnibus:                        0.597   Durbin-Watson:                   1.749\n",
      "Prob(Omnibus):                  0.742   Jarque-Bera (JB):                0.204\n",
      "Skew:                          -0.252   Prob(JB):                        0.903\n",
      "Kurtosis:                       2.933   Cond. No.                         43.1\n",
      "==============================================================================\n",
      "\n",
      "Notes:\n",
      "[1] Standard Errors assume that the covariance matrix of the errors is correctly specified.\n"
     ]
    },
    {
     "name": "stderr",
     "output_type": "stream",
     "text": [
      "C:\\Users\\2160030302\\AppData\\Local\\anaconda3\\Lib\\site-packages\\scipy\\stats\\_stats_py.py:1806: UserWarning: kurtosistest only valid for n>=20 ... continuing anyway, n=19\n",
      "  warnings.warn(\"kurtosistest only valid for n>=20 ... continuing \"\n"
     ]
    }
   ],
   "source": [
    "\n",
    "X = sm.add_constant(df[\"Advertising\"])\n",
    "y = df[\"Sales\"]\n",
    "model = sm.OLS(y, X).fit()\n",
    "df[\"Residuals\"] = model.resid\n",
    "\n",
    "threshold = 2 * df[\"Residuals\"].std()\n",
    "df[\"Evening_Hours\"] = (df[\"Residuals\"].abs() > threshold).astype(int)\n",
    "\n",
    "df_filtered = df[df[\"Evening_Hours\"] == 0]\n",
    "\n",
    "X_filtered = sm.add_constant(df_filtered[\"Advertising\"])\n",
    "y_filtered = df_filtered[\"Sales\"]\n",
    "\n",
    "model_filtered = sm.OLS(y_filtered, X_filtered).fit()\n",
    "\n",
    "b_coef = model_filtered.params[\"Advertising\"]\n",
    "b_std_err = model_filtered.bse[\"Advertising\"]\n",
    "b_t_value = model_filtered.tvalues[\"Advertising\"]\n",
    "b_p_value = model_filtered.pvalues[\"Advertising\"]\n",
    "\n",
    "print(f\"Coeficiente b (Advertising): {b_coef:.3f}\")\n",
    "print(f\"Erro padrão de b: {b_std_err:.3f}\")\n",
    "print(f\"Valor t de b: {b_t_value:.3f}\")\n",
    "print(f\"p-valor de b: {b_p_value:.6f}\")\n",
    "\n",
    "print(model_filtered.summary())"
   ]
  },
  {
   "cell_type": "markdown",
   "id": "c48865da-413b-4a65-87f6-6bbf4c87493c",
   "metadata": {},
   "source": [
    "* The 𝑏 coefficient is positively significant and has a very small p-value (<0.01), indicating that there is a statistically significant relationship between Advertising and Sales."
   ]
  },
  {
   "cell_type": "markdown",
   "id": "c7f1dc80-6d7d-4581-9ed0-76dccd2b2079",
   "metadata": {},
   "source": [
    "* Impact of Outliers\n",
    "\n",
    "The presence of an outlier (week with evening hours) distorted the relationship between advertising and sales, making the initial model unreliable.\n",
    "After removing this week, the relationship between Advertising and Sales became statistically significant.\n",
    "Importance of residual analysis\n",
    "\n",
    "If we had only looked at the regression coefficients in Part (b), we might have wrongly concluded that Advertising does not influence sales.\n",
    "However, by analyzing the residuals, we identified an atypical week that was negatively impacting the model.\n",
    "Improved Model Interpretation\n",
    "\n",
    "The revised model suggests that advertising spending does influence sales, but the presence of special events can alter this relationship.\n",
    "This indicates that, in the real world, external factors such as opening hours may be more relevant than simply increasing advertising.\n"
   ]
  },
  {
   "cell_type": "code",
   "execution_count": null,
   "id": "3e5e1612-193c-4e77-8700-4eedf4142798",
   "metadata": {},
   "outputs": [],
   "source": []
  },
  {
   "cell_type": "code",
   "execution_count": null,
   "id": "521f55ec-5489-4f5d-b6ea-7205a7712ad2",
   "metadata": {},
   "outputs": [],
   "source": []
  },
  {
   "cell_type": "code",
   "execution_count": null,
   "id": "d51ad875-1204-450e-aaf6-1295e663653a",
   "metadata": {},
   "outputs": [],
   "source": []
  },
  {
   "cell_type": "code",
   "execution_count": null,
   "id": "8a000123-9b05-4e48-a2eb-0f075845e413",
   "metadata": {},
   "outputs": [],
   "source": []
  }
 ],
 "metadata": {
  "kernelspec": {
   "display_name": "Python 3 (ipykernel)",
   "language": "python",
   "name": "python3"
  },
  "language_info": {
   "codemirror_mode": {
    "name": "ipython",
    "version": 3
   },
   "file_extension": ".py",
   "mimetype": "text/x-python",
   "name": "python",
   "nbconvert_exporter": "python",
   "pygments_lexer": "ipython3",
   "version": "3.11.7"
  }
 },
 "nbformat": 4,
 "nbformat_minor": 5
}
