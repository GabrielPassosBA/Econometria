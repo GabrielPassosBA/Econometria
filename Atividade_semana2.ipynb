{
 "cells": [
  {
   "cell_type": "markdown",
   "id": "16e0cfe4-7092-4c9c-9177-49d32123e8d0",
   "metadata": {},
   "source": [
    "* (d) Argue that the columns of the (2 × 3) matrix P are obtained by regressing each of the variables ‘Age’, ‘Educ’,\r\n",
    "and ‘Parttime’ on a constant term and the variable ‘Female’"
   ]
  },
  {
   "cell_type": "code",
   "execution_count": 11,
   "id": "1c93b9e8-11a8-43e3-acae-e4acc4cba74d",
   "metadata": {},
   "outputs": [],
   "source": [
    "import pandas as pd\n",
    "import statsmodels.api as sm\n",
    "import numpy as np "
   ]
  },
  {
   "cell_type": "code",
   "execution_count": 12,
   "id": "b525b111-11ec-4f88-a833-d627e241ab6b",
   "metadata": {},
   "outputs": [
    {
     "data": {
      "text/html": [
       "<div>\n",
       "<style scoped>\n",
       "    .dataframe tbody tr th:only-of-type {\n",
       "        vertical-align: middle;\n",
       "    }\n",
       "\n",
       "    .dataframe tbody tr th {\n",
       "        vertical-align: top;\n",
       "    }\n",
       "\n",
       "    .dataframe thead th {\n",
       "        text-align: right;\n",
       "    }\n",
       "</style>\n",
       "<table border=\"1\" class=\"dataframe\">\n",
       "  <thead>\n",
       "    <tr style=\"text-align: right;\">\n",
       "      <th></th>\n",
       "      <th>Observation</th>\n",
       "      <th>Wage</th>\n",
       "      <th>LogWage</th>\n",
       "      <th>Female</th>\n",
       "      <th>Age</th>\n",
       "      <th>Educ</th>\n",
       "      <th>Parttime</th>\n",
       "    </tr>\n",
       "  </thead>\n",
       "  <tbody>\n",
       "    <tr>\n",
       "      <th>0</th>\n",
       "      <td>1</td>\n",
       "      <td>66</td>\n",
       "      <td>4.189655</td>\n",
       "      <td>0</td>\n",
       "      <td>49</td>\n",
       "      <td>1</td>\n",
       "      <td>1</td>\n",
       "    </tr>\n",
       "    <tr>\n",
       "      <th>1</th>\n",
       "      <td>2</td>\n",
       "      <td>34</td>\n",
       "      <td>3.526361</td>\n",
       "      <td>1</td>\n",
       "      <td>42</td>\n",
       "      <td>1</td>\n",
       "      <td>1</td>\n",
       "    </tr>\n",
       "    <tr>\n",
       "      <th>2</th>\n",
       "      <td>3</td>\n",
       "      <td>70</td>\n",
       "      <td>4.248495</td>\n",
       "      <td>1</td>\n",
       "      <td>42</td>\n",
       "      <td>1</td>\n",
       "      <td>1</td>\n",
       "    </tr>\n",
       "    <tr>\n",
       "      <th>3</th>\n",
       "      <td>4</td>\n",
       "      <td>47</td>\n",
       "      <td>3.850148</td>\n",
       "      <td>0</td>\n",
       "      <td>38</td>\n",
       "      <td>1</td>\n",
       "      <td>0</td>\n",
       "    </tr>\n",
       "    <tr>\n",
       "      <th>4</th>\n",
       "      <td>5</td>\n",
       "      <td>107</td>\n",
       "      <td>4.672829</td>\n",
       "      <td>1</td>\n",
       "      <td>54</td>\n",
       "      <td>1</td>\n",
       "      <td>1</td>\n",
       "    </tr>\n",
       "  </tbody>\n",
       "</table>\n",
       "</div>"
      ],
      "text/plain": [
       "   Observation  Wage   LogWage  Female  Age  Educ  Parttime\n",
       "0            1    66  4.189655       0   49     1         1\n",
       "1            2    34  3.526361       1   42     1         1\n",
       "2            3    70  4.248495       1   42     1         1\n",
       "3            4    47  3.850148       0   38     1         0\n",
       "4            5   107  4.672829       1   54     1         1"
      ]
     },
     "execution_count": 12,
     "metadata": {},
     "output_type": "execute_result"
    }
   ],
   "source": [
    "df = pd.read_excel(\"TrainExer21.xlsx\")\n",
    "df.head()"
   ]
  },
  {
   "cell_type": "code",
   "execution_count": 13,
   "id": "ec2c4459-c296-4adc-b232-4d2b82de6afd",
   "metadata": {},
   "outputs": [],
   "source": [
    "X1 = df[['Female']]\n",
    "X1 = sm.add_constant(X1)  # Adiciona o termo constante\n",
    "X2 = df[['Age', 'Educ', 'Parttime']]"
   ]
  },
  {
   "cell_type": "code",
   "execution_count": 14,
   "id": "6beb3810-7605-424c-b39d-610cf3787073",
   "metadata": {},
   "outputs": [],
   "source": [
    "P = []\n",
    "\n",
    "for col in X2.columns:\n",
    "    model = sm.OLS(X2[col], X1).fit()\n",
    "    P.append(model.params.values)  "
   ]
  },
  {
   "cell_type": "code",
   "execution_count": 15,
   "id": "6b3283f6-2555-42a7-a6c9-3155567fd629",
   "metadata": {},
   "outputs": [
    {
     "name": "stdout",
     "output_type": "stream",
     "text": [
      "Matriz P (2x3):\n",
      "[[40.05063291  2.25949367  0.19620253]\n",
      " [-0.11041552 -0.49318932  0.24944964]]\n"
     ]
    }
   ],
   "source": [
    "P = np.column_stack(P)\n",
    "\n",
    "print(\"Matriz P (2x3):\")\n",
    "print(P)"
   ]
  },
  {
   "cell_type": "markdown",
   "id": "d54b83b4-c6f4-49aa-8a90-e7213116a61d",
   "metadata": {},
   "source": [
    "* (e) Determine the values of P from the results in Lecture 2.1."
   ]
  },
  {
   "cell_type": "code",
   "execution_count": 16,
   "id": "8ebf406c-6c32-4b14-b449-42ebe6a241ac",
   "metadata": {},
   "outputs": [
    {
     "name": "stdout",
     "output_type": "stream",
     "text": [
      "                            OLS Regression Results                            \n",
      "==============================================================================\n",
      "Dep. Variable:                LogWage   R-squared:                       0.073\n",
      "Model:                            OLS   Adj. R-squared:                  0.071\n",
      "Method:                 Least Squares   F-statistic:                     39.01\n",
      "Date:                Mon, 10 Mar 2025   Prob (F-statistic):           9.05e-10\n",
      "Time:                        14:12:09   Log-Likelihood:                -289.67\n",
      "No. Observations:                 500   AIC:                             583.3\n",
      "Df Residuals:                     498   BIC:                             591.8\n",
      "Df Model:                           1                                         \n",
      "Covariance Type:            nonrobust                                         \n",
      "==============================================================================\n",
      "                 coef    std err          t      P>|t|      [0.025      0.975]\n",
      "------------------------------------------------------------------------------\n",
      "const          4.7336      0.024    194.449      0.000       4.686       4.781\n",
      "Female        -0.2506      0.040     -6.246      0.000      -0.329      -0.172\n",
      "==============================================================================\n",
      "Omnibus:                        8.320   Durbin-Watson:                   1.383\n",
      "Prob(Omnibus):                  0.016   Jarque-Bera (JB):                7.001\n",
      "Skew:                           0.212   Prob(JB):                       0.0302\n",
      "Kurtosis:                       2.604   Cond. No.                         2.42\n",
      "==============================================================================\n",
      "\n",
      "Notes:\n",
      "[1] Standard Errors assume that the covariance matrix of the errors is correctly specified.\n"
     ]
    }
   ],
   "source": [
    "X = df[['Female']]  \n",
    "X = sm.add_constant(X)  \n",
    "\n",
    "y = df['LogWage']\n",
    "\n",
    "model = sm.OLS(y, X).fit()\n",
    "\n",
    "print(model.summary())"
   ]
  },
  {
   "cell_type": "markdown",
   "id": "f4a9c3cc-a3fb-446c-a4db-398911ba7dbf",
   "metadata": {},
   "source": [
    "* (f) Check the numerical validity of the result in part (c). Note: This equation will not hold exactly because the\r\n",
    "coefficients have been rounded to two or three decimals; preciser results would have been obtained for higher\r\n",
    "precision coefficients"
   ]
  },
  {
   "cell_type": "code",
   "execution_count": 39,
   "id": "4ebef0ea-2681-4fcf-91ed-d762b4ed5c3b",
   "metadata": {},
   "outputs": [
    {
     "name": "stdout",
     "output_type": "stream",
     "text": [
      "Dimensões de X1: (500, 2)\n",
      "Dimensões de X2: (500, 3)\n",
      "Dimensões de P: (2, 3)\n",
      "Dimensões de b_R: (2,)\n",
      "b_R: [ 9.42442529 -0.76316869]\n"
     ]
    }
   ],
   "source": [
    "import numpy as np\n",
    "import pandas as pd\n",
    "\n",
    "# Carregar os dados (substitua pelo caminho correto do arquivo)\n",
    "data = pd.read_excel(\"TrainExer21.xlsx\")\n",
    "\n",
    "# Adicionar uma coluna constante (com valor 1) a X1\n",
    "data['Constant'] = 1\n",
    "\n",
    "# Extrair y (log-wage), X1 (constante e 'Female'), X2 ('Age', 'Educ', 'Parttime')\n",
    "y = data['LogWage'].values\n",
    "X1 = data[['Constant', 'Female']].values  # Agora X1 tem a constante\n",
    "X2 = data[['Age', 'Educ', 'Parttime']].values  # X2 continua com 'Age', 'Educ', 'Parttime'\n",
    "\n",
    "# Verificar as dimensões de X1 e X2\n",
    "print(\"Dimensões de X1:\", X1.shape)\n",
    "print(\"Dimensões de X2:\", X2.shape)\n",
    "\n",
    "# Estimadores OLS para o modelo irrestrito (b)\n",
    "b1 = np.linalg.inv(X1.T @ X1) @ X1.T @ y\n",
    "\n",
    "b2 = np.linalg.inv(X2.T @ X2) @ X2.T @ y\n",
    "\n",
    "P = np.linalg.inv(X1.T @ X1) @ X1.T @ X2\n",
    "\n",
    "# Verificar a dimensão de P\n",
    "print(\"Dimensões de P:\", P.shape)\n",
    "\n",
    "b_R = b1 + P @ b2 \n",
    "\n",
    "print(\"Dimensões de b_R:\", b_R.shape)\n",
    "\n",
    "print(\"b_R:\", b_R)"
   ]
  },
  {
   "cell_type": "code",
   "execution_count": null,
   "id": "ae6e61ed-e502-42a0-b66c-ee2d262a7cee",
   "metadata": {},
   "outputs": [],
   "source": []
  }
 ],
 "metadata": {
  "kernelspec": {
   "display_name": "Python 3 (ipykernel)",
   "language": "python",
   "name": "python3"
  },
  "language_info": {
   "codemirror_mode": {
    "name": "ipython",
    "version": 3
   },
   "file_extension": ".py",
   "mimetype": "text/x-python",
   "name": "python",
   "nbconvert_exporter": "python",
   "pygments_lexer": "ipython3",
   "version": "3.11.7"
  }
 },
 "nbformat": 4,
 "nbformat_minor": 5
}
