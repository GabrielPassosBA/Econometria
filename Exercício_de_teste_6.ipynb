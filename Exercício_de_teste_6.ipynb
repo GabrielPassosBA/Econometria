{
 "cells": [
  {
   "cell_type": "code",
   "execution_count": 5,
   "id": "6c07c2b3-1f3b-4987-aa78-2c756ea1a1bb",
   "metadata": {},
   "outputs": [],
   "source": [
    "import pandas as pd\n",
    "import numpy as np\n",
    "import openpyxl"
   ]
  },
  {
   "cell_type": "code",
   "execution_count": 7,
   "id": "daeebc02-89cd-49f2-a882-0fc310dcb8e4",
   "metadata": {},
   "outputs": [
    {
     "data": {
      "text/html": [
       "<div>\n",
       "<style scoped>\n",
       "    .dataframe tbody tr th:only-of-type {\n",
       "        vertical-align: middle;\n",
       "    }\n",
       "\n",
       "    .dataframe tbody tr th {\n",
       "        vertical-align: top;\n",
       "    }\n",
       "\n",
       "    .dataframe thead th {\n",
       "        text-align: right;\n",
       "    }\n",
       "</style>\n",
       "<table border=\"1\" class=\"dataframe\">\n",
       "  <thead>\n",
       "    <tr style=\"text-align: right;\">\n",
       "      <th></th>\n",
       "      <th>repond id</th>\n",
       "      <th>response</th>\n",
       "      <th>male</th>\n",
       "      <th>activity</th>\n",
       "      <th>age</th>\n",
       "    </tr>\n",
       "  </thead>\n",
       "  <tbody>\n",
       "    <tr>\n",
       "      <th>0</th>\n",
       "      <td>1</td>\n",
       "      <td>1</td>\n",
       "      <td>0</td>\n",
       "      <td>0</td>\n",
       "      <td>58</td>\n",
       "    </tr>\n",
       "    <tr>\n",
       "      <th>1</th>\n",
       "      <td>2</td>\n",
       "      <td>1</td>\n",
       "      <td>1</td>\n",
       "      <td>0</td>\n",
       "      <td>50</td>\n",
       "    </tr>\n",
       "    <tr>\n",
       "      <th>2</th>\n",
       "      <td>3</td>\n",
       "      <td>1</td>\n",
       "      <td>1</td>\n",
       "      <td>0</td>\n",
       "      <td>40</td>\n",
       "    </tr>\n",
       "    <tr>\n",
       "      <th>3</th>\n",
       "      <td>4</td>\n",
       "      <td>1</td>\n",
       "      <td>1</td>\n",
       "      <td>0</td>\n",
       "      <td>36</td>\n",
       "    </tr>\n",
       "    <tr>\n",
       "      <th>4</th>\n",
       "      <td>5</td>\n",
       "      <td>1</td>\n",
       "      <td>1</td>\n",
       "      <td>0</td>\n",
       "      <td>28</td>\n",
       "    </tr>\n",
       "  </tbody>\n",
       "</table>\n",
       "</div>"
      ],
      "text/plain": [
       "   repond id  response  male  activity  age\n",
       "0          1         1     0         0   58\n",
       "1          2         1     1         0   50\n",
       "2          3         1     1         0   40\n",
       "3          4         1     1         0   36\n",
       "4          5         1     1         0   28"
      ]
     },
     "execution_count": 7,
     "metadata": {},
     "output_type": "execute_result"
    }
   ],
   "source": [
    "df = pd.read_csv('Data_Lecture_5-5.csv')\n",
    "df.head()"
   ]
  },
  {
   "cell_type": "markdown",
   "id": "76525db4-e0a4-4598-8b5a-39b7d6bc663a",
   "metadata": {},
   "source": [
    "##  Questions"
   ]
  },
  {
   "cell_type": "markdown",
   "id": "b6c2622e-256f-4d6c-95b9-b115e368a20f",
   "metadata": {},
   "source": [
    "### (a) \n",
    "* Show that"
   ]
  },
  {
   "cell_type": "code",
   "execution_count": 8,
   "id": "e514f49d-b474-4d0e-8a16-6b4a9f4696ce",
   "metadata": {},
   "outputs": [],
   "source": [
    "beta_0 = -2.488\n",
    "beta_1 = 0.954   # male\n",
    "beta_2 = 0.914   # active\n",
    "beta_3 = 0.070   # age\n",
    "beta_4 = -0.069  # (age/10)^2"
   ]
  },
  {
   "cell_type": "code",
   "execution_count": 10,
   "id": "b86ca3e0-f4f5-4857-a204-61f049cbdfcc",
   "metadata": {},
   "outputs": [],
   "source": [
    "age = df['age']\n",
    "male = df['male']\n",
    "active = df['activity']"
   ]
  },
  {
   "cell_type": "code",
   "execution_count": 11,
   "id": "907134bc-efe9-4e9f-acfe-02ab93aec41b",
   "metadata": {},
   "outputs": [],
   "source": [
    "eta = (\n",
    "    beta_0 +\n",
    "    beta_1 * male +\n",
    "    beta_2 * active +\n",
    "    beta_3 * age +\n",
    "    beta_4 * (age / 10) ** 2\n",
    ")"
   ]
  },
  {
   "cell_type": "code",
   "execution_count": 12,
   "id": "5fe62936-9f37-4aa1-a9a5-9bda08ec5d85",
   "metadata": {},
   "outputs": [],
   "source": [
    "pi = np.exp(eta) / (1 + np.exp(eta))"
   ]
  },
  {
   "cell_type": "code",
   "execution_count": 13,
   "id": "7fddfb01-0800-485e-8b08-94bdc88b0b20",
   "metadata": {},
   "outputs": [],
   "source": [
    "d_eta_d_age = beta_3 + 2 * beta_4 * age / 100"
   ]
  },
  {
   "cell_type": "code",
   "execution_count": 14,
   "id": "a84b966b-f0a2-4029-985b-15dae98e9071",
   "metadata": {},
   "outputs": [],
   "source": [
    "d_pi_d_age = pi * (1 - pi) * d_eta_d_age"
   ]
  },
  {
   "cell_type": "code",
   "execution_count": 15,
   "id": "f28b1fee-7f52-4e1d-a535-801481901c08",
   "metadata": {},
   "outputs": [],
   "source": [
    "d_one_minus_pi_d_age = -d_pi_d_age"
   ]
  },
  {
   "cell_type": "code",
   "execution_count": 16,
   "id": "e65321a4-6ea6-445a-b154-49ef95faef9c",
   "metadata": {},
   "outputs": [],
   "source": [
    "sum_derivatives = d_pi_d_age + d_one_minus_pi_d_age"
   ]
  },
  {
   "cell_type": "code",
   "execution_count": 17,
   "id": "67ecbe37-6087-430a-9348-ca8fe93a9e98",
   "metadata": {},
   "outputs": [],
   "source": [
    "tolerance = 1e-10\n",
    "all_zero = np.all(np.abs(sum_derivatives) < tolerance)"
   ]
  },
  {
   "cell_type": "code",
   "execution_count": 18,
   "id": "7da44200-ee8c-49fa-81a0-66bef35d5317",
   "metadata": {},
   "outputs": [
    {
     "name": "stdout",
     "output_type": "stream",
     "text": [
      "Todas as somas das derivadas são aproximadamente zero? True\n",
      "Exemplo das primeiras 5 somas de derivadas: 0    0.0\n",
      "1    0.0\n",
      "2    0.0\n",
      "3    0.0\n",
      "4    0.0\n",
      "dtype: float64\n"
     ]
    }
   ],
   "source": [
    "print(\"Todas as somas das derivadas são aproximadamente zero?\", all_zero)\n",
    "print(\"Exemplo das primeiras 5 somas de derivadas:\", sum_derivatives.head())"
   ]
  },
  {
   "cell_type": "markdown",
   "id": "12bc5643-7277-4f44-9ef4-d5110a26197e",
   "metadata": {},
   "source": [
    "### (b) \n",
    "* Assume that you recode the dependent variable as follows: resp new i = respi+1. Hence, positive response is\n",
    " now defined to be equal to zero and negative response to be equal to 1. Use the odds ratio to show that this\n",
    " transformation implies that the sign of all parameters change."
   ]
  },
  {
   "cell_type": "code",
   "execution_count": 19,
   "id": "47452412-3266-4eb2-9989-c2b931139f28",
   "metadata": {},
   "outputs": [],
   "source": [
    "import statsmodels.api as sm"
   ]
  },
  {
   "cell_type": "code",
   "execution_count": 21,
   "id": "8fa83237-72af-4e15-9dc1-d4f0d5f7c50e",
   "metadata": {},
   "outputs": [],
   "source": [
    "df['age2'] = (df['age'] / 10) ** 2\n",
    "X = df[['male', 'activity', 'age', 'age2']]\n",
    "X = sm.add_constant(X)"
   ]
  },
  {
   "cell_type": "code",
   "execution_count": 23,
   "id": "0fe644f9-3b51-4391-bde5-1a648158f4e8",
   "metadata": {},
   "outputs": [],
   "source": [
    "y_original = df['response']\n",
    "model_original = sm.Logit(y_original, X).fit(disp=0)"
   ]
  },
  {
   "cell_type": "code",
   "execution_count": 24,
   "id": "f0785c22-95f6-4be8-82c0-da12eacd514a",
   "metadata": {},
   "outputs": [],
   "source": [
    "y_reversed = 1 - df['response']\n",
    "model_reversed = sm.Logit(y_reversed, X).fit(disp=0)"
   ]
  },
  {
   "cell_type": "code",
   "execution_count": 25,
   "id": "103e816a-1c55-459a-b0dd-cd7f096d3423",
   "metadata": {},
   "outputs": [
    {
     "name": "stdout",
     "output_type": "stream",
     "text": [
      "Coeficientes do modelo original:\n",
      "const      -2.488358\n",
      "male        0.953694\n",
      "activity    0.913748\n",
      "age         0.069945\n",
      "age2       -0.068692\n",
      "dtype: float64\n",
      "\n",
      "Coeficientes do modelo com variável resposta invertida:\n",
      "const       2.488358\n",
      "male       -0.953694\n",
      "activity   -0.913748\n",
      "age        -0.069945\n",
      "age2        0.068692\n",
      "dtype: float64\n",
      "\n",
      "Verificação: coeficientes são simétricos (mudança de sinal)?\n",
      "True\n"
     ]
    }
   ],
   "source": [
    "# Mostrar os coeficientes\n",
    "print(\"Coeficientes do modelo original:\")\n",
    "print(model_original.params)\n",
    "print(\"\\nCoeficientes do modelo com variável resposta invertida:\")\n",
    "print(model_reversed.params)\n",
    "\n",
    "# Verificação da mudança de sinal\n",
    "print(\"\\nVerificação: coeficientes são simétricos (mudança de sinal)?\")\n",
    "print(np.allclose(model_original.params.values, -model_reversed.params.values))"
   ]
  },
  {
   "attachments": {
    "f34f316b-f48a-4ba5-8cf1-73e257e60207.png": {
     "image/png": "[encoded data removed]"
    }
   },
   "cell_type": "markdown",
   "id": "25409fe4-23aa-48a1-b118-1c2a92ea2be6",
   "metadata": {},
   "source": [
    "### (c) \n",
    "* Consider again the odds ratio positive response versus negative response:\n",
    "\n",
    "  ![image.png](attachment:f34f316b-f48a-4ba5-8cf1-73e257e60207.png)\n",
    ".\r",
    "* \n",
    " During lecture 5.5 you have seen that this odds ratio obtains its maximum value for age equal to 50 years for\r\n",
    " males as well as females. Suppose now that you want to extend the logit model and allow that this age value\r\n",
    " is possibly different for males than for females. Discuss how you can extend the logit specification"
   ]
  },
  {
   "cell_type": "code",
   "execution_count": 26,
   "id": "4d0043d5-99e8-48fc-ae9e-8e4df61fe3eb",
   "metadata": {},
   "outputs": [],
   "source": [
    "df['age2'] = (df['age'] / 10) ** 2\n",
    "df['male_age'] = df['male'] * df['age']\n",
    "df['male_age2'] = df['male'] * df['age2']"
   ]
  },
  {
   "cell_type": "code",
   "execution_count": 27,
   "id": "93facf2b-3913-48f5-be9f-e018447782f3",
   "metadata": {},
   "outputs": [],
   "source": [
    "X_ext = df[['male', 'activity', 'age', 'age2', 'male_age', 'male_age2']]\n",
    "X_ext = sm.add_constant(X_ext)\n",
    "\n",
    "y = df['response']"
   ]
  },
  {
   "cell_type": "code",
   "execution_count": 28,
   "id": "6db8dab7-a077-432a-ae08-054348aa3354",
   "metadata": {},
   "outputs": [
    {
     "name": "stdout",
     "output_type": "stream",
     "text": [
      "                           Logit Regression Results                           \n",
      "==============================================================================\n",
      "Dep. Variable:               response   No. Observations:                  925\n",
      "Model:                          Logit   Df Residuals:                      918\n",
      "Method:                           MLE   Df Model:                            6\n",
      "Date:                Sat, 31 May 2025   Pseudo R-squ.:                 0.06396\n",
      "Time:                        19:11:52   Log-Likelihood:                -600.04\n",
      "converged:                       True   LL-Null:                       -641.04\n",
      "Covariance Type:            nonrobust   LLR p-value:                 1.381e-15\n",
      "==============================================================================\n",
      "                 coef    std err          z      P>|z|      [0.025      0.975]\n",
      "------------------------------------------------------------------------------\n",
      "const         -0.4766      1.458     -0.327      0.744      -3.335       2.382\n",
      "male          -2.1422      1.828     -1.172      0.241      -5.725       1.441\n",
      "activity       0.9394      0.186      5.041      0.000       0.574       1.305\n",
      "age           -0.0166      0.058     -0.286      0.775      -0.130       0.097\n",
      "age2           0.0164      0.054      0.302      0.763      -0.090       0.123\n",
      "male_age       0.1328      0.073      1.824      0.068      -0.010       0.276\n",
      "male_age2     -0.1315      0.069     -1.903      0.057      -0.267       0.004\n",
      "==============================================================================\n"
     ]
    }
   ],
   "source": [
    "model_ext = sm.Logit(y, X_ext).fit(disp=0)\n",
    "\n",
    "print(model_ext.summary())"
   ]
  },
  {
   "cell_type": "code",
   "execution_count": 29,
   "id": "f49de018-125e-4bfe-b2df-b9bb7b4dff55",
   "metadata": {},
   "outputs": [
    {
     "name": "stdout",
     "output_type": "stream",
     "text": [
      "Idade que maximiza a odds ratio (feminino): 50.41 anos\n",
      "Idade que maximiza a odds ratio (masculino): 50.51 anos\n"
     ]
    }
   ],
   "source": [
    "# Extrai os coeficientes\n",
    "b3 = model_ext.params['age']\n",
    "b4 = model_ext.params['age2']\n",
    "b5 = model_ext.params['male_age']\n",
    "b6 = model_ext.params['male_age2']\n",
    "\n",
    "# Idade que maximiza a odds ratio\n",
    "age_max_female = -100 * b3 / (2 * b4)\n",
    "age_max_male = -100 * (b3 + b5) / (2 * (b4 + b6))\n",
    "\n",
    "print(f\"Idade que maximiza a odds ratio (feminino): {age_max_female:.2f} anos\")\n",
    "print(f\"Idade que maximiza a odds ratio (masculino): {age_max_male:.2f} anos\")"
   ]
  }
 ],
 "metadata": {
  "kernelspec": {
   "display_name": "Python 3 (ipykernel)",
   "language": "python",
   "name": "python3"
  },
  "language_info": {
   "codemirror_mode": {
    "name": "ipython",
    "version": 3
   },
   "file_extension": ".py",
   "mimetype": "text/x-python",
   "name": "python",
   "nbconvert_exporter": "python",
   "pygments_lexer": "ipython3",
   "version": "3.11.7"
  }
 },
 "nbformat": 4,
 "nbformat_minor": 5
}
